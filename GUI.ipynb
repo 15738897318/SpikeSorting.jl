{
 "cells": [
  {
   "cell_type": "code",
   "execution_count": 1,
   "metadata": {
    "collapsed": false
   },
   "outputs": [
    {
     "name": "stderr",
     "output_type": "stream",
     "text": [
      "INFO: Loading help data...\n"
     ]
    }
   ],
   "source": [
    "using PyPlot"
   ]
  },
  {
   "cell_type": "code",
   "execution_count": 81,
   "metadata": {
    "collapsed": false
   },
   "outputs": [
    {
     "name": "stdout",
     "output_type": "stream",
     "text": [
      "elapsed time: 5.147000875 seconds (593200 bytes allocated)\n"
     ]
    }
   ],
   "source": [
    "# plot in an external window since it doesn't work yet in IJulia\n",
    "pygui(true)\n",
    "# tell PyPlot that the plot is interactive\n",
    "PyPlot.ion()\n",
    "# . . . and that previous plots are overwritten\n",
    "#PyPlot.hold(false)\n",
    "\n",
    "fig = plt.figure()\n",
    "ax=fig[:add_subplot](111)\n",
    "\n",
    "x=[1:1:100]\n",
    "y=[rand(100)]\n",
    "\n",
    "li=ax[:plot](x, y)[1]\n",
    "\n",
    "fig[:canvas][:draw]()\n",
    "plt.show()\n",
    "\n",
    "y2=[rand(100,100)]\n",
    "\n",
    "@time for i=1:100\n",
    "    li[:set_ydata](y2[i,:])\n",
    "    fig[:canvas][:blit](ax[:bbox])\n",
    "    #fig[:canvas][:draw]()\n",
    "end\n"
   ]
  },
  {
   "cell_type": "code",
   "execution_count": null,
   "metadata": {
    "collapsed": true
   },
   "outputs": [],
   "source": []
  }
 ],
 "metadata": {
  "kernelspec": {
   "display_name": "Julia 0.3.8",
   "language": "julia",
   "name": "julia-0.3"
  },
  "language_info": {
   "name": "julia",
   "version": "0.3.8"
  }
 },
 "nbformat": 4,
 "nbformat_minor": 0
}

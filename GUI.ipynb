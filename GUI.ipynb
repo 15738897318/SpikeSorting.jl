{
 "cells": [
  {
   "cell_type": "code",
   "execution_count": 1,
   "metadata": {
    "collapsed": false
   },
   "outputs": [
    {
     "name": "stderr",
     "output_type": "stream",
     "text": [
      "INFO: Loading help data...\n"
     ]
    }
   ],
   "source": [
    "using PyPlot"
   ]
  },
  {
   "cell_type": "code",
   "execution_count": 47,
   "metadata": {
    "collapsed": false
   },
   "outputs": [
    {
     "name": "stdout",
     "output_type": "stream",
     "text": [
      "elapsed time: 1.072894188 seconds (471040 bytes allocated)\n"
     ]
    }
   ],
   "source": [
    "# plot in an external window since it doesn't work yet in IJulia\n",
    "pygui(true)\n",
    "# tell PyPlot that the plot is interactive\n",
    "PyPlot.ion()\n",
    "# . . . and that previous plots are overwritten\n",
    "#PyPlot.hold(false)\n",
    "\n",
    "(fig, ax) = plt.subplots(8,8)\n",
    "x=[1:1:100]\n",
    "y=[rand(100)]\n",
    "li=[hi[:plot](x, y)[1] for hi in ax]\n",
    "\n",
    "fig[:canvas][:draw]()\n",
    "plt.show()\n",
    "\n",
    "y2=[rand(500,100)]\n",
    "\n",
    "@time for i=1:10\n",
    "    \n",
    "    #[fig[:canvas][:restore_region](hi) for hi in backgrounds]\n",
    "    [hi[:set_ydata](y2[i,:]) for hi in li]\n",
    "    [fig[:canvas][:blit](hi[:bbox]) for hi in ax]\n",
    "    #fig[:canvas][:draw]()\n",
    "end"
   ]
  },
  {
   "cell_type": "code",
   "execution_count": 1,
   "metadata": {
    "collapsed": false
   },
   "outputs": [
    {
     "data": {
      "text/plain": [
       "getfrom (generic function with 1 method)"
      ]
     },
     "execution_count": 1,
     "metadata": {},
     "output_type": "execute_result"
    }
   ],
   "source": [
    "addprocs();\n",
    "function sendto(p::Int; args...)\n",
    "    for (nm, val) in args\n",
    "        @spawnat(p, eval(Main, Expr(:(=), nm, val)))\n",
    "    end\n",
    "end\n",
    "\n",
    "\n",
    "function sendto(ps::Vector{Int}; args...)\n",
    "    for p in ps\n",
    "        sendto(p; args...)\n",
    "    end\n",
    "end\n",
    "\n",
    "getfrom(p::Int, nm::Symbol; mod=Main) = fetch(@spawnat(p, getfield(mod, nm)))\n",
    "\n",
    "#create local copies for each processor\n",
    "sendto(2, s=Any[SpikeDetection() for i=1:32])\n",
    "sendto(3, s=Any[SpikeDetection() for i=1:32])\n",
    "sendto(2, c=Any[Cluster() for i=1:32])\n",
    "sendto(3, c=Any[Cluster() for i=1:32])\n",
    "\n",
    "#this is read only, so should work fine, but might have to be shared array\n",
    "be=ones(Int64,20000,64)\n",
    "for i=1:64\n",
    "    be[200:700:end,i]=10*be[200:700:end,i]\n",
    "end\n",
    "\n",
    "#each processor should run independently\n",
    "function main()\n",
    "for p in workers()\n",
    "    @spawnat p begin\n",
    "        onlineCal_par(be,c,s,p-1,2)\n",
    "    end\n",
    "end\n",
    "end"
   ]
  },
  {
   "cell_type": "code",
   "execution_count": 2,
   "metadata": {
    "collapsed": false
   },
   "outputs": [],
   "source": [
    "using SortSpikes, ExtractSpikes, DistributedArrays"
   ]
  },
  {
   "cell_type": "code",
   "execution_count": 4,
   "metadata": {
    "collapsed": false
   },
   "outputs": [
    {
     "name": "stdout",
     "output_type": "stream",
     "text": [
      " 137.937 milliseconds (101 k allocations: 36699 KB, 6.42% gc time)\n"
     ]
    }
   ],
   "source": [
    "\n",
    "s=Any[SpikeDetection() for i=1:64]\n",
    "c=Any[Cluster() for i=1:64]\n",
    "electrode=Any[zeros(Int64,2) for i=1:64]\n",
    "neuronnum=Any[zeros(Int64,2) for i=1:64]\n",
    "be=ones(Int64,20000,64)\n",
    "for i=1:64\n",
    "    be[200:700:end,i]=10*be[200:700:end,i]\n",
    "end\n",
    "@time onlineCal(be,c,s)\n",
    "onlineSort([1,20000],be,c,s,electrode,neuronnum)\n",
    "\n"
   ]
  },
  {
   "cell_type": "code",
   "execution_count": 38,
   "metadata": {
    "collapsed": false
   },
   "outputs": [
    {
     "data": {
      "text/plain": [
       "main (generic function with 1 method)"
      ]
     },
     "execution_count": 38,
     "metadata": {},
     "output_type": "execute_result"
    }
   ],
   "source": [
    "function cwt(x::Array{Float64,1},t::Int,psi::Array{Float64,1},bs::Array{Float64,1})\n",
    "\n",
    "    bs[1]=bs[2]-x[t-20]*psi[1]+x[t]*psi[21]\n",
    "\n",
    "    for i=2:19\n",
    "        bs[i]=bs[i+1]-x[t-20]*psi[i]+x[t]*psi[22-i] \n",
    "    end\n",
    "\n",
    "    bs[20]=0.0\n",
    "    for i=1:20\n",
    "        bs[20]+=x[t-20+i]*psi[21-i]\n",
    "    end\n",
    "    \n",
    "    return bs\n",
    "end\n",
    "\n",
    "\n",
    "function mycwt(x::Array{Float64,1},t::Int, psi::Array{Float64,1})\n",
    "    \n",
    "    bs=0.0\n",
    "    \n",
    "    for i=1:20\n",
    "        bs+=x[t-20+i]*psi[21-i]\n",
    "    end\n",
    "    \n",
    "end\n",
    "\n",
    "function main()\n",
    "    for i=1:20000\n",
    "        mycwt(x,t,psi)\n",
    "    end\n",
    "end\n",
    "\n",
    "psi=[0.00021208083980379827\n",
    "0.00035858968789573785\n",
    "-0.0021782363581090178\n",
    "-0.004159358781386048\n",
    "0.010131117519849788\n",
    "0.023408156785839195\n",
    "-0.02816802897093635\n",
    "-0.09192001055969624\n",
    "0.05204316317624377\n",
    "0.4215662066908515\n",
    "-0.7742896036529562\n",
    "0.4379916261718371\n",
    "0.06203596396290357\n",
    "-0.10557420870333893\n",
    "-0.0412892087501817\n",
    "0.03268357426711183\n",
    "0.01976177894257264\n",
    "-0.009164231162481846\n",
    "-0.006764185448053083\n",
    "0.0024333732126576722\n",
    "0.0016628637020130838\n",
    "-0.0006381313430451114\n",
    "-0.00030225958181306315\n",
    "0.00014054114970203437\n",
    "4.134043227251251e-05\n",
    "-2.1315026809955787e-05\n",
    "-3.7346551751414047e-06\n",
    "2.0637618513646814e-06\n",
    "1.6744288576823017e-07\n",
    "-9.517657273819165e-08\n",
    "];\n",
    "\n",
    "bs=zeros(Float64,20)\n",
    "    \n",
    "x=rand(100)\n",
    "t=50\n",
    "\n",
    "for j=1:20\n",
    "    for i=1:20\n",
    "        bs[j]+=x[t-20+i]*psi[21-i]\n",
    "    end\n",
    "end"
   ]
  },
  {
   "cell_type": "code",
   "execution_count": 1,
   "metadata": {
    "collapsed": false
   },
   "outputs": [],
   "source": [
    "addprocs()\n",
    "@everywhere using SortSpikes, ExtractSpikes, DistributedArrays"
   ]
  },
  {
   "cell_type": "code",
   "execution_count": 13,
   "metadata": {
    "collapsed": false
   },
   "outputs": [],
   "source": [
    "st=Array(Sorting,64)\n",
    "for i=1:64\n",
    "    st[i]=Sorting(SpikeDetection(),Cluster(),ones(Int64,20000))\n",
    "    st[i].rawSignal[200:700:end]=10*st[i].rawSignal[200:700:end]\n",
    "end\n",
    "s=distribute(st);"
   ]
  },
  {
   "cell_type": "code",
   "execution_count": 14,
   "metadata": {
    "collapsed": false
   },
   "outputs": [
    {
     "name": "stdout",
     "output_type": "stream",
     "text": [
      " 112.952 milliseconds (1295 allocations: 104 KB)\n"
     ]
    }
   ],
   "source": [
    "@everywhere function add_one!(mt::Sorting)\n",
    "    onlineCal(mt)\n",
    "    return mt\n",
    "end\n",
    "\n",
    "@time map!(add_one!, s);"
   ]
  },
  {
   "cell_type": "code",
   "execution_count": null,
   "metadata": {
    "collapsed": true
   },
   "outputs": [],
   "source": []
  }
 ],
 "metadata": {
  "kernelspec": {
   "display_name": "Julia 0.4.0-dev",
   "language": "julia",
   "name": "julia-0.4"
  },
  "language_info": {
   "name": "julia",
   "version": "0.4.0"
  }
 },
 "nbformat": 4,
 "nbformat_minor": 0
}

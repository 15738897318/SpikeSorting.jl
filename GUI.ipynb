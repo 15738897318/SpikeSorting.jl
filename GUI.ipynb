{
 "cells": [
  {
   "cell_type": "code",
   "execution_count": null,
   "metadata": {
    "collapsed": false
   },
   "outputs": [],
   "source": [
    "addprocs()\n",
    "ENV[\"WINSTON_OUTPUT\"] = :gtk\n",
    "using SortSpikes, DistributedArrays\n",
    "#using Gtk.ShortNames, Winston"
   ]
  },
  {
   "cell_type": "code",
   "execution_count": null,
   "metadata": {
    "collapsed": false,
    "scrolled": true
   },
   "outputs": [],
   "source": [
    "#make data structure for spike sorting\n",
    "st=Array(Sorting,64)\n",
    "\n",
    "#In order to have spike waveforms updated as fast as possible\n",
    "#you would ideally have some sort of read only pointer that looks\n",
    "#at the waveforms location in the distributed array. Unfortunately, I \n",
    "#can't find a straightforward way to do this. The solution I came up with is to have the \n",
    "#plot and waveform both reference to a shared array for each waveform.\n",
    "\n",
    "for i=1:64\n",
    "    st[i]=Sorting(SpikeDetection(),Cluster(),convert(Array{Int64,1},rand(Uint16,60000)),zeros(Int,500),zeros(Int,500),2,[convert(SharedArray,zeros(Int64,50)) for j=1:10])\n",
    "end\n",
    "\n",
    "s=distribute(st);"
   ]
  },
  {
   "cell_type": "code",
   "execution_count": null,
   "metadata": {
    "collapsed": false,
    "scrolled": true
   },
   "outputs": [],
   "source": [
    "#calibrate on first batch of data\n",
    "#probably want to have a calibration period since 600 samples isn't enough\n",
    "@parallel for i=1:64\n",
    "    #s[i].rawSignal=convert(Array{Int64,1},rand(Uint16,600))\n",
    "    s[i].rawSignal[:]=ones(Int64,60000)\n",
    "    s[i].rawSignal[100]=10000\n",
    "end\n",
    "\n",
    "@time map!(onlinecal, s);"
   ]
  },
  {
   "cell_type": "code",
   "execution_count": null,
   "metadata": {
    "collapsed": false,
    "scrolled": true
   },
   "outputs": [],
   "source": [
    "#generate new fake data\n",
    "for i=1:64\n",
    "    #s[i].rawSignal=convert(Array{Int64,1},rand(Uint16,600))\n",
    "    s[i].rawSignal[:]=ones(Int64,60000)\n",
    "    s[i].rawSignal[100]=10000\n",
    "end\n",
    "\n",
    "#sort new data\n",
    "@time map!(onlinesort, s);"
   ]
  },
  {
   "cell_type": "code",
   "execution_count": null,
   "metadata": {
    "collapsed": false
   },
   "outputs": [],
   "source": [
    "#Make GUI\n",
    "win=@Window(title=\"myGui\")\n",
    "g=@Grid()\n",
    "push!(win,g)\n",
    "c=[@Canvas(200,200) for i=1:32]\n",
    "for i=1:4\n",
    "    for j=1:8\n",
    "        g[j,i]=c[sub2ind((8,4),j,i)]\n",
    "    end \n",
    "end\n",
    "showall(win)\n",
    "\n",
    "#Display Winston Frame Plots on Canvases with \n",
    "f=Array(Any,32)\n",
    "cu=Curve[Curve(1:50,collect(linspace(1,10000,50)), color=\"red\") for i=1:32]\n",
    "\n",
    "p=FramedPlot[FramedPlot() for i=1:32]\n",
    "\n",
    "for i=1:32\n",
    "    f[i]=Winston.Figure(c[i],p[i])\n",
    "    Winston.addfig(Winston._display,i,f[i])\n",
    "    add(p[i],cu[i])\n",
    "    Winston.display(c[i],p[i])\n",
    "end"
   ]
  },
  {
   "cell_type": "code",
   "execution_count": null,
   "metadata": {
    "collapsed": false
   },
   "outputs": [],
   "source": [
    "#get context for plots, and make clearing function\n",
    "\n",
    "a=[get_context(c[i],p[i]) for i=1:32]\n",
    "wipe=[wipeout(a[i],50,10000) for i=1:32]\n",
    "\n",
    "#How many spikes are on the plot\n",
    "count=zeros(Int,32)\n",
    "\n",
    "#\n",
    "colordict = Dict(1 => \"red\", 2 => \"blue\", 3 => \"green\")\n",
    "\n",
    "@time for i=1:32\n",
    "    Winston.paint(wipe[i],a[i].paintc)\n",
    "    reveal(c[i],false)\n",
    "end"
   ]
  },
  {
   "cell_type": "code",
   "execution_count": null,
   "metadata": {
    "collapsed": true
   },
   "outputs": [],
   "source": [
    "#callbacks to get position of mouse clicks\n",
    "\n",
    "global xpos=zeros(Float64,32,2)\n",
    "global ypos=zeros(Float64,32,2)\n",
    "global mansort=falses(32)\n",
    "global ac=a[1]\n",
    "\n",
    "for i=1:32\n",
    "    \n",
    "    c[i].mouse.button1press = (w,event) -> begin \n",
    "        global xpos\n",
    "        global ypos\n",
    "        global ac\n",
    "        xpos[i,1]=(event.x - ac.geom.x.a)/ac.geom.x.b\n",
    "        ypos[i,1]=(ac.draw.ctx.surface.height - event.y - ac.geom.y.a)/ac.geom.y.b\n",
    "    end\n",
    "    c[i].mouse.button1release = (w,event) -> begin \n",
    "        global xpos\n",
    "        global ypos\n",
    "        global ac\n",
    "        xpos[i,2]=(event.x - ac.geom.x.a)/ac.geom.x.b\n",
    "        ypos[i,2]=(ac.draw.ctx.surface.height - event.y - ac.geom.y.a)/ac.geom.y.b\n",
    "    end\n",
    "    c[i].mouse.button3press = (w,event) -> begin \n",
    "        global mansort\n",
    "        mansort[i] = !mansort[i]\n",
    "    end\n",
    "end"
   ]
  },
  {
   "cell_type": "code",
   "execution_count": null,
   "metadata": {
    "collapsed": false
   },
   "outputs": [],
   "source": [
    "waves=[convert(SharedArray,zeros(Int64,50)) for i=1:32 ,j=1:10];\n",
    "#make the electrodes you want to be on the screen also point to waves\n",
    "n=2\n",
    "for i=1:32\n",
    "    if i>s.cuts[1][n]\n",
    "        n+=1\n",
    "    end\n",
    "    for j=1:10\n",
    "        @spawnat n s[i].waveforms[j]=waves[i,j] #this might not point appropriately\n",
    "    end\n",
    "end"
   ]
  },
  {
   "cell_type": "code",
   "execution_count": null,
   "metadata": {
    "collapsed": false
   },
   "outputs": [],
   "source": [
    "\n",
    "@time for i=1:32\n",
    "    #If too many elements on plot, wipe it to start\n",
    "    if count[i]>20\n",
    "        Winston.paint(wipe[i],a[i].paintc)\n",
    "        count[i]=0\n",
    "    end\n",
    "    \n",
    "    j=2\n",
    "    #Loop over new spikes\n",
    "    while waves[i,j][1]>0\n",
    "        \n",
    "        #get spike\n",
    "        cu[i].y[:]=waves[i,j]\n",
    "        \n",
    "        #change color based on neuron cluster (assigned in first dummy wave)\n",
    "        cu[1].attr.vals[1][:linecolor]=colordict[waves[i,j][j]]\n",
    "        \n",
    "        #Plot spike\n",
    "        plotline(i,c,cu,a)\n",
    "        \n",
    "        #keep track of number of spikes on graph\n",
    "        count[i]+=1\n",
    "        j+=1\n",
    "    end\n",
    "    \n",
    "    #show graph after everything is plotted.\n",
    "    reveal(c[i],false)\n",
    "end\n",
    "\n",
    "\n"
   ]
  },
  {
   "cell_type": "code",
   "execution_count": null,
   "metadata": {
    "collapsed": true,
    "scrolled": true
   },
   "outputs": [],
   "source": [
    "#Wavelet Experiments\n",
    "\n",
    "function cwt(x::Array{Float64,1},t::Int,psi::Array{Float64,1},bs::Array{Float64,1})\n",
    "\n",
    "    bs[1]=bs[2]-x[t-20]*psi[1]+x[t]*psi[21]\n",
    "\n",
    "    for i=2:19\n",
    "        bs[i]=bs[i+1]-x[t-20]*psi[i]+x[t]*psi[22-i] \n",
    "    end\n",
    "\n",
    "    bs[20]=0.0\n",
    "    for i=1:20\n",
    "        bs[20]+=x[t-20+i]*psi[21-i]\n",
    "    end\n",
    "    \n",
    "    return bs\n",
    "end\n",
    "\n",
    "\n",
    "function mycwt(x::Array{Float64,1},t::Int, psi::Array{Float64,1})\n",
    "    \n",
    "    bs=0.0\n",
    "    \n",
    "    for i=1:20\n",
    "        bs+=x[t-20+i]*psi[21-i]\n",
    "    end\n",
    "    \n",
    "end\n",
    "\n",
    "function main()\n",
    "    for i=1:20000\n",
    "        mycwt(x,t,psi)\n",
    "    end\n",
    "end\n",
    "\n",
    "psi=[0.00021208083980379827\n",
    "0.00035858968789573785\n",
    "-0.0021782363581090178\n",
    "-0.004159358781386048\n",
    "0.010131117519849788\n",
    "0.023408156785839195\n",
    "-0.02816802897093635\n",
    "-0.09192001055969624\n",
    "0.05204316317624377\n",
    "0.4215662066908515\n",
    "-0.7742896036529562\n",
    "0.4379916261718371\n",
    "0.06203596396290357\n",
    "-0.10557420870333893\n",
    "-0.0412892087501817\n",
    "0.03268357426711183\n",
    "0.01976177894257264\n",
    "-0.009164231162481846\n",
    "-0.006764185448053083\n",
    "0.0024333732126576722\n",
    "0.0016628637020130838\n",
    "-0.0006381313430451114\n",
    "-0.00030225958181306315\n",
    "0.00014054114970203437\n",
    "4.134043227251251e-05\n",
    "-2.1315026809955787e-05\n",
    "-3.7346551751414047e-06\n",
    "2.0637618513646814e-06\n",
    "1.6744288576823017e-07\n",
    "-9.517657273819165e-08\n",
    "];\n",
    "\n",
    "bs=zeros(Float64,20)\n",
    "    \n",
    "x=rand(100)\n",
    "t=50\n",
    "\n",
    "for j=1:20\n",
    "    for i=1:20\n",
    "        bs[j]+=x[t-20+i]*psi[21-i]\n",
    "    end\n",
    "end"
   ]
  },
  {
   "cell_type": "code",
   "execution_count": null,
   "metadata": {
    "collapsed": true
   },
   "outputs": [],
   "source": []
  }
 ],
 "metadata": {
  "kernelspec": {
   "display_name": "Julia 0.4.0-dev",
   "language": "julia",
   "name": "julia-0.4"
  },
  "language_info": {
   "name": "julia",
   "version": "0.4.0"
  }
 },
 "nbformat": 4,
 "nbformat_minor": 0
}

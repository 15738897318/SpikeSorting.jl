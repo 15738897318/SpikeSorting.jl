{
 "cells": [
  {
   "cell_type": "code",
   "execution_count": 1,
   "metadata": {
    "collapsed": false
   },
   "outputs": [
    {
     "name": "stderr",
     "output_type": "stream",
     "text": [
      "INFO: Loading help data...\n"
     ]
    }
   ],
   "source": [
    "using PyPlot"
   ]
  },
  {
   "cell_type": "code",
   "execution_count": 47,
   "metadata": {
    "collapsed": false
   },
   "outputs": [
    {
     "name": "stdout",
     "output_type": "stream",
     "text": [
      "elapsed time: 1.072894188 seconds (471040 bytes allocated)\n"
     ]
    }
   ],
   "source": [
    "# plot in an external window since it doesn't work yet in IJulia\n",
    "pygui(true)\n",
    "# tell PyPlot that the plot is interactive\n",
    "PyPlot.ion()\n",
    "# . . . and that previous plots are overwritten\n",
    "#PyPlot.hold(false)\n",
    "\n",
    "(fig, ax) = plt.subplots(8,8)\n",
    "x=[1:1:100]\n",
    "y=[rand(100)]\n",
    "li=[hi[:plot](x, y)[1] for hi in ax]\n",
    "\n",
    "fig[:canvas][:draw]()\n",
    "plt.show()\n",
    "\n",
    "y2=[rand(500,100)]\n",
    "\n",
    "@time for i=1:10\n",
    "    \n",
    "    #[fig[:canvas][:restore_region](hi) for hi in backgrounds]\n",
    "    [hi[:set_ydata](y2[i,:]) for hi in li]\n",
    "    [fig[:canvas][:blit](hi[:bbox]) for hi in ax]\n",
    "    #fig[:canvas][:draw]()\n",
    "end"
   ]
  },
  {
   "cell_type": "code",
   "execution_count": 1,
   "metadata": {
    "collapsed": false
   },
   "outputs": [
    {
     "data": {
      "text/plain": [
       "getfrom (generic function with 1 method)"
      ]
     },
     "execution_count": 1,
     "metadata": {},
     "output_type": "execute_result"
    }
   ],
   "source": [
    "addprocs();\n",
    "function sendto(p::Int; args...)\n",
    "    for (nm, val) in args\n",
    "        @spawnat(p, eval(Main, Expr(:(=), nm, val)))\n",
    "    end\n",
    "end\n",
    "\n",
    "\n",
    "function sendto(ps::Vector{Int}; args...)\n",
    "    for p in ps\n",
    "        sendto(p; args...)\n",
    "    end\n",
    "end\n",
    "\n",
    "getfrom(p::Int, nm::Symbol; mod=Main) = fetch(@spawnat(p, getfield(mod, nm)))\n",
    "\n"
   ]
  },
  {
   "cell_type": "code",
   "execution_count": 2,
   "metadata": {
    "collapsed": false
   },
   "outputs": [],
   "source": [
    "using SortSpikes, ExtractSpikes, DistributedArrays"
   ]
  },
  {
   "cell_type": "code",
   "execution_count": 4,
   "metadata": {
    "collapsed": false
   },
   "outputs": [
    {
     "name": "stdout",
     "output_type": "stream",
     "text": [
      " 137.937 milliseconds (101 k allocations: 36699 KB, 6.42% gc time)\n"
     ]
    }
   ],
   "source": [
    "\n",
    "s=Any[SpikeDetection() for i=1:64]\n",
    "c=Any[Cluster() for i=1:64]\n",
    "electrode=Any[zeros(Int64,2) for i=1:64]\n",
    "neuronnum=Any[zeros(Int64,2) for i=1:64]\n",
    "be=ones(Int64,20000,64)\n",
    "for i=1:64\n",
    "    be[200:700:end,i]=10*be[200:700:end,i]\n",
    "end\n",
    "@time onlineCal(be,c,s)\n",
    "onlineSort([1,20000],be,c,s,electrode,neuronnum)\n",
    "\n"
   ]
  },
  {
   "cell_type": "code",
   "execution_count": 9,
   "metadata": {
    "collapsed": false
   },
   "outputs": [
    {
     "data": {
      "text/plain": [
       "main (generic function with 1 method)"
      ]
     },
     "execution_count": 9,
     "metadata": {},
     "output_type": "execute_result"
    }
   ],
   "source": [
    "#create local copies for each processor\n",
    "sendto(2, s=Any[SpikeDetection() for i=1:32])\n",
    "sendto(3, s=Any[SpikeDetection() for i=1:32])\n",
    "sendto(2, c=Any[Cluster() for i=1:32])\n",
    "sendto(3, c=Any[Cluster() for i=1:32])\n",
    "\n",
    "#this is read only, so should work fine, but might have to be shared array\n",
    "be=ones(Int64,20000,64)\n",
    "for i=1:64\n",
    "    be[200:700:end,i]=10*be[200:700:end,i]\n",
    "end\n",
    "\n",
    "#each processor should run independently\n",
    "function main()\n",
    "for p in workers()\n",
    "    @spawnat p begin\n",
    "        onlineCal_par(be,c,s,p-1,2)\n",
    "    end\n",
    "end\n",
    "end\n",
    "\n",
    "\n"
   ]
  },
  {
   "cell_type": "code",
   "execution_count": 10,
   "metadata": {
    "collapsed": false
   },
   "outputs": [
    {
     "name": "stdout",
     "output_type": "stream",
     "text": [
      "  85.300 milliseconds (2209 allocations: 123 KB)\n"
     ]
    }
   ],
   "source": [
    "@time main()"
   ]
  },
  {
   "cell_type": "code",
   "execution_count": null,
   "metadata": {
    "collapsed": true
   },
   "outputs": [],
   "source": []
  }
 ],
 "metadata": {
  "kernelspec": {
   "display_name": "Julia 0.4.0-dev",
   "language": "julia",
   "name": "julia-0.4"
  },
  "language_info": {
   "name": "julia",
   "version": "0.4.0"
  }
 },
 "nbformat": 4,
 "nbformat_minor": 0
}

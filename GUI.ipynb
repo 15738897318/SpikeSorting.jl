{
 "cells": [
  {
   "cell_type": "code",
   "execution_count": null,
   "metadata": {
    "collapsed": true,
    "scrolled": true
   },
   "outputs": [],
   "source": [
    "#addprocs()\n",
    "using SortSpikes, ExtractSpikes, DistributedArrays, Gtk.ShortNames, Winston"
   ]
  },
  {
   "cell_type": "code",
   "execution_count": null,
   "metadata": {
    "collapsed": false
   },
   "outputs": [],
   "source": [
    "#pyqtgraph testing\n",
    "using PySide\n",
    "reload(Pkg.dir(\"PySide\", \"src\", \"pyqtgraph.jl\"))\n",
    "using PyQtGraph\n",
    "using PyCall"
   ]
  },
  {
   "cell_type": "code",
   "execution_count": null,
   "metadata": {
    "collapsed": false,
    "scrolled": true
   },
   "outputs": [],
   "source": [
    "#make data structure for spike sorting\n",
    "st=Array(Sorting,64)\n",
    "\n",
    "#In order to have spike waveforms updated as fast as possible\n",
    "#you would ideally have some sort of read only pointer that looks\n",
    "#at the waveforms location in the distributed array. Unfortunately, I \n",
    "#can't find a straightforward way to do this. The solution I came up with is to have the \n",
    "#plot and waveform both reference to a shared array for each waveform.\n",
    "\n",
    "for i=1:64\n",
    "    st[i]=Sorting(SpikeDetection(),Cluster(),convert(Array{Int64,1},rand(Uint16,600)),zeros(Int,500),zeros(Int,500),2,[convert(SharedArray,zeros(Int64,50)) for j=1:10])\n",
    "end\n",
    "\n",
    "s=distribute(st);\n"
   ]
  },
  {
   "cell_type": "code",
   "execution_count": null,
   "metadata": {
    "collapsed": false
   },
   "outputs": [],
   "source": [
    "win=@Window(title=\"myGui\")\n",
    "\n",
    "g=@Grid()\n",
    "\n",
    "push!(win,g)\n",
    "\n",
    "c=[@Canvas(200,200) for i=1:32] #Would be nice to adjust\n",
    "\n",
    "for i=1:4\n",
    "    for j=1:8\n",
    "        g[j,i]=c[sub2ind((8,4),j,i)]\n",
    "    end \n",
    "end\n",
    "\n",
    "showall(win)\n",
    "\n",
    "f=Array(Any,32)\n",
    "cu=[Curve(1:50,1:50, color=\"red\") for i=1:32, j=1:10]\n",
    "\n",
    "p=[FramedPlot() for i=1:32]\n",
    "\n",
    "for i=1:32\n",
    "    f[i]=Winston.Figure(c[i],p[i])\n",
    "    Winston.addfig(Winston._display,i,f[i])\n",
    "    for j=1:10\n",
    "        add(p[i],cu[i,j])\n",
    "    end\n",
    "    Winston.display(c[i],p[i])\n",
    "end\n",
    "\n",
    "#p[1].content1.components[1].attr[:style][:linecolor]=\"blue\""
   ]
  },
  {
   "cell_type": "code",
   "execution_count": null,
   "metadata": {
    "collapsed": true
   },
   "outputs": [],
   "source": [
    "waves=[convert(SharedArray,ones(Int64,50)) for i=1:32, j=1:10]\n",
    "\n",
    "for i=1:32\n",
    "    for j=1:10\n",
    "        p[i].content1.components[j].y=waves[i,j]\n",
    "    end\n",
    "end\n",
    "\n",
    "#make the electrodes you want to be on the screen also point to waves\n",
    "@parallel for i=1:32\n",
    "    for j=1:10\n",
    "        s[i].waveforms[j]=waves[i,j]\n",
    "    end\n",
    "end"
   ]
  },
  {
   "cell_type": "code",
   "execution_count": null,
   "metadata": {
    "collapsed": false
   },
   "outputs": [],
   "source": [
    "#Create Window\n",
    "w = Widget()\n",
    "\n",
    "set_size(w, 800, 600)\n",
    "\n",
    "#shows window\n",
    "raise(w)\n",
    "# Graphics Layout Widget make grid of plot devices\n",
    "win = GraphicsLayoutWidget(w)\n",
    "lyt = GridLayout(w)\n",
    "addWidget(lyt, win)\n",
    "\n",
    "# addPlot adds a plot device in each grid element and returns a PyObject\n",
    "# PyQtGraph.GraphicsPlot object\n",
    "p = PyObject[win[:addPlot](i,j) for i=1:4, j=1:8];\n",
    "p = vec(p)\n",
    "\n",
    "#stores all of the curves that can be present on the plot\n",
    "#k dictates how many curves can be present at once\n",
    "#this needs to be shared to be accessed by multiple processes at once\n",
    "curve = PyObject[p[i][:plot](pen=\"y\") for i=1:32, k=1:10];\n",
    "for i=1:10, j=1:32\n",
    "    curve[j,i][:setData](convert(Array{Int64,1},rand(Uint16,50)))\n",
    "end\n",
    "\n",
    "## stop auto-scaling\n",
    "for i=1:32\n",
    "    p[i][:enableAutoRange](\"xy\", false) \n",
    "end\n",
    "\n",
    "for i=1:10, j=1:32\n",
    "    curve[j,i][:setData](ones(Int,50))\n",
    "end"
   ]
  },
  {
   "cell_type": "code",
   "execution_count": null,
   "metadata": {
    "collapsed": false
   },
   "outputs": [],
   "source": [
    "waves=[convert(SharedArray,ones(Int64,50)) for i=1:32, j=1:10]\n",
    "\n",
    "for i=1:32\n",
    "    for j=1:10\n",
    "        #curve[i,j][:yData]=waves[i,j]\n",
    "        curve[i,j][:yDisp]=waves[i,j]\n",
    "        #curve[i,j][:curve][:yData]=waves[i,j]\n",
    "    end\n",
    "end\n",
    "\n",
    "#make the electrodes you want to be on the screen also point to waves\n",
    "@parallel for i=1:32\n",
    "    for j=1:10\n",
    "        s[i].waveforms[j]=waves[i,j]\n",
    "    end\n",
    "end"
   ]
  },
  {
   "cell_type": "code",
   "execution_count": null,
   "metadata": {
    "collapsed": false,
    "scrolled": true
   },
   "outputs": [],
   "source": [
    "#calibrate on first batch of data\n",
    "#probably want to have a calibration period since 600 samples isn't enough\n",
    "@parallel for i=1:64\n",
    "    #s[i].rawSignal=convert(Array{Int64,1},rand(Uint16,600))\n",
    "    s[i].rawSignal[:]=ones(Int64,600)\n",
    "    s[i].rawSignal[100]=10000\n",
    "end\n",
    "\n",
    "@time map!(onlineCal, s);"
   ]
  },
  {
   "cell_type": "code",
   "execution_count": null,
   "metadata": {
    "collapsed": false,
    "scrolled": true
   },
   "outputs": [],
   "source": [
    "#generate new fake data\n",
    "for i=1:64\n",
    "    #s[i].rawSignal=convert(Array{Int64,1},rand(Uint16,600))\n",
    "    s[i].rawSignal[:]=ones(Int64,600)\n",
    "    s[i].rawSignal[100]=10000\n",
    "end\n",
    "\n",
    "#sort new data\n",
    "@time map!(onlineSort, s);"
   ]
  },
  {
   "cell_type": "code",
   "execution_count": null,
   "metadata": {
    "collapsed": false,
    "scrolled": true
   },
   "outputs": [],
   "source": [
    "@time curve[1,2][:updateItems]()"
   ]
  },
  {
   "cell_type": "code",
   "execution_count": null,
   "metadata": {
    "collapsed": true,
    "scrolled": true
   },
   "outputs": [],
   "source": [
    "#Wavelet Experiments\n",
    "\n",
    "function cwt(x::Array{Float64,1},t::Int,psi::Array{Float64,1},bs::Array{Float64,1})\n",
    "\n",
    "    bs[1]=bs[2]-x[t-20]*psi[1]+x[t]*psi[21]\n",
    "\n",
    "    for i=2:19\n",
    "        bs[i]=bs[i+1]-x[t-20]*psi[i]+x[t]*psi[22-i] \n",
    "    end\n",
    "\n",
    "    bs[20]=0.0\n",
    "    for i=1:20\n",
    "        bs[20]+=x[t-20+i]*psi[21-i]\n",
    "    end\n",
    "    \n",
    "    return bs\n",
    "end\n",
    "\n",
    "\n",
    "function mycwt(x::Array{Float64,1},t::Int, psi::Array{Float64,1})\n",
    "    \n",
    "    bs=0.0\n",
    "    \n",
    "    for i=1:20\n",
    "        bs+=x[t-20+i]*psi[21-i]\n",
    "    end\n",
    "    \n",
    "end\n",
    "\n",
    "function main()\n",
    "    for i=1:20000\n",
    "        mycwt(x,t,psi)\n",
    "    end\n",
    "end\n",
    "\n",
    "psi=[0.00021208083980379827\n",
    "0.00035858968789573785\n",
    "-0.0021782363581090178\n",
    "-0.004159358781386048\n",
    "0.010131117519849788\n",
    "0.023408156785839195\n",
    "-0.02816802897093635\n",
    "-0.09192001055969624\n",
    "0.05204316317624377\n",
    "0.4215662066908515\n",
    "-0.7742896036529562\n",
    "0.4379916261718371\n",
    "0.06203596396290357\n",
    "-0.10557420870333893\n",
    "-0.0412892087501817\n",
    "0.03268357426711183\n",
    "0.01976177894257264\n",
    "-0.009164231162481846\n",
    "-0.006764185448053083\n",
    "0.0024333732126576722\n",
    "0.0016628637020130838\n",
    "-0.0006381313430451114\n",
    "-0.00030225958181306315\n",
    "0.00014054114970203437\n",
    "4.134043227251251e-05\n",
    "-2.1315026809955787e-05\n",
    "-3.7346551751414047e-06\n",
    "2.0637618513646814e-06\n",
    "1.6744288576823017e-07\n",
    "-9.517657273819165e-08\n",
    "];\n",
    "\n",
    "bs=zeros(Float64,20)\n",
    "    \n",
    "x=rand(100)\n",
    "t=50\n",
    "\n",
    "for j=1:20\n",
    "    for i=1:20\n",
    "        bs[j]+=x[t-20+i]*psi[21-i]\n",
    "    end\n",
    "end"
   ]
  },
  {
   "cell_type": "code",
   "execution_count": null,
   "metadata": {
    "collapsed": true
   },
   "outputs": [],
   "source": []
  }
 ],
 "metadata": {
  "kernelspec": {
   "display_name": "Julia 0.4.0-dev",
   "language": "julia",
   "name": "julia-0.4"
  },
  "language_info": {
   "name": "julia",
   "version": "0.4.0"
  }
 },
 "nbformat": 4,
 "nbformat_minor": 0
}

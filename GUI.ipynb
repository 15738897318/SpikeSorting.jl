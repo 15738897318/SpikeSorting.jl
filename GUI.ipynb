{
 "cells": [
  {
   "cell_type": "code",
   "execution_count": null,
   "metadata": {
    "collapsed": false
   },
   "outputs": [],
   "source": [
    "addprocs()\n",
    "using SortSpikes, ExtractSpikes, DistributedArrays"
   ]
  },
  {
   "cell_type": "code",
   "execution_count": null,
   "metadata": {
    "collapsed": false
   },
   "outputs": [],
   "source": [
    "#Parallel Processing template\n",
    "\n",
    "st=Array(Sorting,1024)\n",
    "for i=1:1024\n",
    "    st[i]=Sorting(SpikeDetection(),Cluster(),ones(Int64,20000),zeros(Int,500),zeros(Int,500),2,zeros(Int,50,100))\n",
    "    st[i].rawSignal[200:700:end]=10*st[i].rawSignal[200:700:end]\n",
    "end\n",
    "\n",
    "@time s=distribute(st);\n",
    "\n",
    "@time map!(onlineCal, s);\n",
    "@time map!(onlineSort, s);"
   ]
  },
  {
   "cell_type": "code",
   "execution_count": null,
   "metadata": {
    "collapsed": false
   },
   "outputs": [],
   "source": [
    "hi=rand(Int,20000,1024)\n",
    "hi=convert(SharedArray{Int,2},hi)\n",
    "\n",
    "@time @parallel for i=1:1024\n",
    "    for j=1:20000\n",
    "        s[i].rawSignal[j]=hi[j,i]\n",
    "    end\n",
    "end"
   ]
  },
  {
   "cell_type": "code",
   "execution_count": null,
   "metadata": {
    "collapsed": false
   },
   "outputs": [],
   "source": [
    "#pyqtgraph testing\n",
    "using PySide\n",
    "reload(Pkg.dir(\"PySide\", \"src\", \"pyqtgraph.jl\"))\n",
    "using PyQtGraph\n",
    "using PyCall"
   ]
  },
  {
   "cell_type": "code",
   "execution_count": null,
   "metadata": {
    "collapsed": true
   },
   "outputs": [],
   "source": [
    "w = Widget()\n",
    "lyt = GridLayout(w)\n",
    "#setLayout(w)\n",
    "\n",
    "set_size(w, 800, 600)\n",
    "\n",
    "#shows window\n",
    "raise(w)\n",
    "\n",
    "# Graphics Layout Widget make grid of plot devices\n",
    "win = GraphicsLayoutWidget(w)\n",
    "addWidget(lyt, win)\n",
    "\n",
    "# addPlot adds a plot device in next column over and returns a PyObject\n",
    "# PyQtGraph.GraphicsPlot object\n",
    "p = [win[:addPlot](i,j) for i=1:4, j=1:8]\n",
    "\n",
    "#stores all of the curves that can be present on the plot\n",
    "#k dictates how many curves can be present at once\n",
    "curve = [p[i,j][:plot](pen=\"y\") for i=1:4, j=1:8, k=1:5]\n",
    "\n",
    "data = rand(100,10);\n",
    "ptr = 0;\n",
    "h=ones(Int,4,8);"
   ]
  },
  {
   "cell_type": "code",
   "execution_count": null,
   "metadata": {
    "collapsed": false
   },
   "outputs": [],
   "source": [
    "function update()\n",
    "    global curve, data, ptr, p\n",
    "    for i=1:4,j=1:8\n",
    "        qinvoke(curve[i,j,h[i,j]], :setData, data[:, 1 + ptr])\n",
    "        p[i,j][:enableAutoRange](\"xy\", false) ## stop auto-scaling\n",
    "        ptr = (ptr + 1) % 10\n",
    "        h[i,j]+=1\n",
    "        if h[i,j]>5\n",
    "            h[i,j]=1\n",
    "            for k=1:5\n",
    "                qinvoke(curve[i,j,k], :clear)\n",
    "            end\n",
    "        end       \n",
    "    end\n",
    "end\n",
    "\n",
    "#creates a timer\n",
    "timer = QtCore[:QTimer]()\n",
    "\n",
    "#connects the action that will occur when the timer triggers\n",
    "qconnect(timer, :timeout, update)\n",
    "\n",
    "#sets the interval between timer actions in ms; 0 for continuous \n",
    "#(as fast as can be processed)\n",
    "qinvoke(timer, :start, 200)"
   ]
  },
  {
   "cell_type": "code",
   "execution_count": null,
   "metadata": {
    "collapsed": false
   },
   "outputs": [],
   "source": [
    "#GUI Experiments\n",
    "\n",
    "# plot in an external window since it doesn't work yet in IJulia\n",
    "pygui(true)\n",
    "# tell PyPlot that the plot is interactive\n",
    "PyPlot.ion()\n",
    "# . . . and that previous plots are overwritten\n",
    "#PyPlot.hold(false)\n",
    "\n",
    "(fig, ax) = plt.subplots(8,8)\n",
    "x=[1:1:100]\n",
    "y=[rand(100)]\n",
    "li=[hi[:plot](x, y)[1] for hi in ax]\n",
    "\n",
    "fig[:canvas][:draw]()\n",
    "plt.show()\n",
    "\n",
    "y2=[rand(500,100)]\n",
    "\n",
    "@time for i=1:10\n",
    "    \n",
    "    #[fig[:canvas][:restore_region](hi) for hi in backgrounds]\n",
    "    [hi[:set_ydata](y2[i,:]) for hi in li]\n",
    "    [fig[:canvas][:blit](hi[:bbox]) for hi in ax]\n",
    "    #fig[:canvas][:draw]()\n",
    "end"
   ]
  },
  {
   "cell_type": "code",
   "execution_count": null,
   "metadata": {
    "collapsed": false
   },
   "outputs": [],
   "source": [
    "#Wavelet Experiments\n",
    "\n",
    "function cwt(x::Array{Float64,1},t::Int,psi::Array{Float64,1},bs::Array{Float64,1})\n",
    "\n",
    "    bs[1]=bs[2]-x[t-20]*psi[1]+x[t]*psi[21]\n",
    "\n",
    "    for i=2:19\n",
    "        bs[i]=bs[i+1]-x[t-20]*psi[i]+x[t]*psi[22-i] \n",
    "    end\n",
    "\n",
    "    bs[20]=0.0\n",
    "    for i=1:20\n",
    "        bs[20]+=x[t-20+i]*psi[21-i]\n",
    "    end\n",
    "    \n",
    "    return bs\n",
    "end\n",
    "\n",
    "\n",
    "function mycwt(x::Array{Float64,1},t::Int, psi::Array{Float64,1})\n",
    "    \n",
    "    bs=0.0\n",
    "    \n",
    "    for i=1:20\n",
    "        bs+=x[t-20+i]*psi[21-i]\n",
    "    end\n",
    "    \n",
    "end\n",
    "\n",
    "function main()\n",
    "    for i=1:20000\n",
    "        mycwt(x,t,psi)\n",
    "    end\n",
    "end\n",
    "\n",
    "psi=[0.00021208083980379827\n",
    "0.00035858968789573785\n",
    "-0.0021782363581090178\n",
    "-0.004159358781386048\n",
    "0.010131117519849788\n",
    "0.023408156785839195\n",
    "-0.02816802897093635\n",
    "-0.09192001055969624\n",
    "0.05204316317624377\n",
    "0.4215662066908515\n",
    "-0.7742896036529562\n",
    "0.4379916261718371\n",
    "0.06203596396290357\n",
    "-0.10557420870333893\n",
    "-0.0412892087501817\n",
    "0.03268357426711183\n",
    "0.01976177894257264\n",
    "-0.009164231162481846\n",
    "-0.006764185448053083\n",
    "0.0024333732126576722\n",
    "0.0016628637020130838\n",
    "-0.0006381313430451114\n",
    "-0.00030225958181306315\n",
    "0.00014054114970203437\n",
    "4.134043227251251e-05\n",
    "-2.1315026809955787e-05\n",
    "-3.7346551751414047e-06\n",
    "2.0637618513646814e-06\n",
    "1.6744288576823017e-07\n",
    "-9.517657273819165e-08\n",
    "];\n",
    "\n",
    "bs=zeros(Float64,20)\n",
    "    \n",
    "x=rand(100)\n",
    "t=50\n",
    "\n",
    "for j=1:20\n",
    "    for i=1:20\n",
    "        bs[j]+=x[t-20+i]*psi[21-i]\n",
    "    end\n",
    "end"
   ]
  },
  {
   "cell_type": "code",
   "execution_count": null,
   "metadata": {
    "collapsed": true
   },
   "outputs": [],
   "source": []
  }
 ],
 "metadata": {
  "kernelspec": {
   "display_name": "Julia 0.4.0-dev",
   "language": "julia",
   "name": "julia-0.4"
  },
  "language_info": {
   "name": "julia",
   "version": "0.4.0"
  }
 },
 "nbformat": 4,
 "nbformat_minor": 0
}

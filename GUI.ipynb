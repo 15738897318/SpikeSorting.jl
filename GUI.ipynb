{
 "cells": [
  {
   "cell_type": "code",
   "execution_count": 1,
   "metadata": {
    "collapsed": false
   },
   "outputs": [
    {
     "name": "stderr",
     "output_type": "stream",
     "text": [
      "INFO: Loading help data...\n"
     ]
    }
   ],
   "source": [
    "using PyPlot"
   ]
  },
  {
   "cell_type": "code",
   "execution_count": 47,
   "metadata": {
    "collapsed": false
   },
   "outputs": [
    {
     "name": "stdout",
     "output_type": "stream",
     "text": [
      "elapsed time: 1.072894188 seconds (471040 bytes allocated)\n"
     ]
    }
   ],
   "source": [
    "# plot in an external window since it doesn't work yet in IJulia\n",
    "pygui(true)\n",
    "# tell PyPlot that the plot is interactive\n",
    "PyPlot.ion()\n",
    "# . . . and that previous plots are overwritten\n",
    "#PyPlot.hold(false)\n",
    "\n",
    "(fig, ax) = plt.subplots(8,8)\n",
    "x=[1:1:100]\n",
    "y=[rand(100)]\n",
    "li=[hi[:plot](x, y)[1] for hi in ax]\n",
    "\n",
    "fig[:canvas][:draw]()\n",
    "plt.show()\n",
    "\n",
    "y2=[rand(500,100)]\n",
    "\n",
    "@time for i=1:10\n",
    "    \n",
    "    #[fig[:canvas][:restore_region](hi) for hi in backgrounds]\n",
    "    [hi[:set_ydata](y2[i,:]) for hi in li]\n",
    "    [fig[:canvas][:blit](hi[:bbox]) for hi in ax]\n",
    "    #fig[:canvas][:draw]()\n",
    "end"
   ]
  },
  {
   "cell_type": "code",
   "execution_count": 1,
   "metadata": {
    "collapsed": false
   },
   "outputs": [],
   "source": [
    "using SortSpikes, ExtractSpikes"
   ]
  },
  {
   "cell_type": "code",
   "execution_count": 10,
   "metadata": {
    "collapsed": false
   },
   "outputs": [
    {
     "name": "stdout",
     "output_type": "stream",
     "text": [
      "  55.765 milliseconds (39238 allocations: 7256 KB)\n"
     ]
    }
   ],
   "source": [
    "\n",
    "s=[i => SpikeDetection() for i=1:64]\n",
    "c=[i => Cluster() for i=1:64]\n",
    "electrode=[i => zeros(Int64,2) for i=1:64]\n",
    "neuronnum=[i => zeros(Int64,2) for i=1:64]\n",
    "be=ones(Int64,20000,64)\n",
    "for i=1:64\n",
    "    be[200:1000:end,i]=10*be[200:1000:end,i]\n",
    "end\n",
    "onlineCal(be,c,s)\n",
    "@time onlineSort([convert(Int32,1),convert(Int32,20000)],be,c,s,electrode,neuronnum)\n",
    "\n"
   ]
  },
  {
   "cell_type": "code",
   "execution_count": 11,
   "metadata": {
    "collapsed": false
   },
   "outputs": [
    {
     "ename": "LoadError",
     "evalue": "main not defined\nwhile loading In[11], in expression starting on line 1",
     "output_type": "error",
     "traceback": [
      "main not defined\nwhile loading In[11], in expression starting on line 1",
      ""
     ]
    }
   ],
   "source": [
    "main()"
   ]
  },
  {
   "cell_type": "code",
   "execution_count": 11,
   "metadata": {
    "collapsed": false
   },
   "outputs": [
    {
     "data": {
      "text/plain": [
       "takearray (generic function with 3 methods)"
      ]
     },
     "execution_count": 11,
     "metadata": {},
     "output_type": "execute_result"
    }
   ],
   "source": [
    "function takearray(hi::Array{Int64,1},i::Int64)\n",
    "    length(hi)\n",
    "end"
   ]
  },
  {
   "cell_type": "code",
   "execution_count": 13,
   "metadata": {
    "collapsed": false
   },
   "outputs": [
    {
     "name": "stdout",
     "output_type": "stream",
     "text": [
      "elapsed time: 3.2267e-5 seconds (16240 bytes allocated)\n"
     ]
    },
    {
     "data": {
      "text/plain": [
       "2000"
      ]
     },
     "execution_count": 13,
     "metadata": {},
     "output_type": "execute_result"
    }
   ],
   "source": [
    "\n",
    "@time takearray(be[:,1],1)"
   ]
  },
  {
   "cell_type": "code",
   "execution_count": 13,
   "metadata": {
    "collapsed": false
   },
   "outputs": [
    {
     "data": {
      "text/plain": [
       "ExtractSpikes.Cluster(50x5 Array{Float64,2}:\n",
       "  1.0  0.0  0.0  0.0  0.0\n",
       "  1.0  0.0  0.0  0.0  0.0\n",
       "  1.0  0.0  0.0  0.0  0.0\n",
       "  1.0  0.0  0.0  0.0  0.0\n",
       "  1.0  0.0  0.0  0.0  0.0\n",
       "  1.0  0.0  0.0  0.0  0.0\n",
       "  1.0  0.0  0.0  0.0  0.0\n",
       " 10.0  0.0  0.0  0.0  0.0\n",
       "  1.0  0.0  0.0  0.0  0.0\n",
       "  1.0  0.0  0.0  0.0  0.0\n",
       "  1.0  0.0  0.0  0.0  0.0\n",
       "  1.0  0.0  0.0  0.0  0.0\n",
       "  1.0  0.0  0.0  0.0  0.0\n",
       "  ⋮                      \n",
       "  1.0  0.0  0.0  0.0  0.0\n",
       "  1.0  0.0  0.0  0.0  0.0\n",
       "  1.0  0.0  0.0  0.0  0.0\n",
       "  1.0  0.0  0.0  0.0  0.0\n",
       "  1.0  0.0  0.0  0.0  0.0\n",
       "  1.0  0.0  0.0  0.0  0.0\n",
       "  1.0  0.0  0.0  0.0  0.0\n",
       "  1.0  0.0  0.0  0.0  0.0\n",
       "  1.0  0.0  0.0  0.0  0.0\n",
       "  1.0  0.0  0.0  0.0  0.0\n",
       "  1.0  0.0  0.0  0.0  0.0\n",
       "  1.0  0.0  0.0  0.0  0.0,[20,20,0,0,0],1,4.046152307615297)"
      ]
     },
     "execution_count": 13,
     "metadata": {},
     "output_type": "execute_result"
    }
   ],
   "source": [
    "c[1]"
   ]
  },
  {
   "cell_type": "code",
   "execution_count": null,
   "metadata": {
    "collapsed": true
   },
   "outputs": [],
   "source": []
  }
 ],
 "metadata": {
  "kernelspec": {
   "display_name": "Julia 0.4.0-dev",
   "language": "julia",
   "name": "julia-0.4"
  },
  "language_info": {
   "name": "julia",
   "version": "0.4.0"
  }
 },
 "nbformat": 4,
 "nbformat_minor": 0
}

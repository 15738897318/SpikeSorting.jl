{
 "cells": [
  {
   "cell_type": "code",
   "execution_count": 1,
   "metadata": {
    "collapsed": false
   },
   "outputs": [],
   "source": [
    "addprocs()\n",
    "using SortSpikes, ExtractSpikes, DistributedArrays"
   ]
  },
  {
   "cell_type": "code",
   "execution_count": 4,
   "metadata": {
    "collapsed": false
   },
   "outputs": [
    {
     "name": "stdout",
     "output_type": "stream",
     "text": [
      "  74.919 milliseconds (3057 allocations: 244 KB)\n",
      "  11.734 milliseconds (3063 allocations: 244 KB)\n"
     ]
    }
   ],
   "source": [
    "#Parallel Processing template\n",
    "\n",
    "st=Array(Sorting,64)\n",
    "for i=1:64\n",
    "    st[i]=Sorting(SpikeDetection(),Cluster(),ones(Int64,20000),zeros(Int,500),zeros(Int,500),2)\n",
    "    st[i].rawSignal[200:700:end]=10*st[i].rawSignal[200:700:end]\n",
    "end\n",
    "\n",
    "s=distribute(st);\n",
    "\n",
    "@time map!(onlineCal, s);\n",
    "@time map!(onlineSort, s);"
   ]
  },
  {
   "cell_type": "code",
   "execution_count": 1,
   "metadata": {
    "collapsed": false
   },
   "outputs": [
    {
     "name": "stderr",
     "output_type": "stream",
     "text": [
      "Warning: New definition \n",
      "    call(Type{PyCall.PyDict}, Base.Associative{#K<:Any, Any}) at /home/nicolelislab/.julia/v0.4/PyCall/src/conversions.jl:464\n",
      "is ambiguous with: \n",
      "    call(Type{PyCall.PyDict}, Base.Associative{Any, #V<:Any}) at /home/nicolelislab/.julia/v0.4/PyCall/src/conversions.jl:463.\n",
      "To fix, define \n",
      "    call(Type{PyCall.PyDict}, Base.Associative{Any, Any})\n",
      "before the new definition.\n",
      "WARNING: ntuple(n::Integer,f::Function) is deprecated, use ntuple(f,n) instead.\n",
      " in depwarn at ./deprecated.jl:62\n",
      " in ntuple at deprecated.jl:49\n",
      " in convert at /home/nicolelislab/.julia/v0.4/PyCall/src/conversions.jl:222\n",
      " in py2array at /home/nicolelislab/.julia/v0.4/PyCall/src/conversions.jl:73\n",
      " in convert at /home/nicolelislab/.julia/v0.4/PyCall/src/conversions.jl:429\n",
      " in pywrap at /home/nicolelislab/.julia/v0.4/PyCall/src/PyCall.jl:305\n",
      " in pywrap at /home/nicolelislab/.julia/v0.4/PyCall/src/PyCall.jl:304\n",
      " in include at ./boot.jl:254\n",
      " in include_from_node1 at ./loading.jl:133\n",
      " in reload_path at ./loading.jl:157\n",
      " in _require at ./loading.jl:69\n",
      " in require at ./loading.jl:52\n",
      " in include_string at loading.jl:99\n",
      " in execute_request_0x535c5df2 at /home/nicolelislab/.julia/v0.4/IJulia/src/execute_request.jl:157\n",
      " in eventloop at /home/nicolelislab/.julia/v0.4/IJulia/src/IJulia.jl:123\n",
      " in anonymous at task.jl:365\n",
      "while loading /home/nicolelislab/.julia/v0.4/PySide/src/PySide.jl, in expression starting on line 363\n",
      "WARNING: ntuple(n::Integer,f::Function) is deprecated, use ntuple(f,n) instead.\n",
      " in depwarn at ./deprecated.jl:62\n",
      " in ntuple at deprecated.jl:49\n",
      " in convert at /home/nicolelislab/.julia/v0.4/PyCall/src/conversions.jl:222\n",
      " in convert at /home/nicolelislab/.julia/v0.4/PyCall/src/conversions.jl:846\n",
      " in pywrap at /home/nicolelislab/.julia/v0.4/PyCall/src/PyCall.jl:311\n",
      " in pywrap at /home/nicolelislab/.julia/v0.4/PyCall/src/PyCall.jl:304\n",
      " in include at ./boot.jl:254\n",
      " in include_from_node1 at ./loading.jl:133\n",
      " in reload_path at ./loading.jl:157\n",
      " in _require at ./loading.jl:69\n",
      " in require at ./loading.jl:52\n",
      " in include_string at loading.jl:99\n",
      " in execute_request_0x535c5df2 at /home/nicolelislab/.julia/v0.4/IJulia/src/execute_request.jl:157\n",
      " in eventloop at /home/nicolelislab/.julia/v0.4/IJulia/src/IJulia.jl:123\n",
      " in anonymous at task.jl:365\n",
      "while loading /home/nicolelislab/.julia/v0.4/PySide/src/PySide.jl, in expression starting on line 363\n",
      "WARNING: ntuple(n::Integer,f::Function) is deprecated, use ntuple(f,n) instead.\n",
      " in depwarn at ./deprecated.jl:62\n",
      " in ntuple at deprecated.jl:49\n",
      " in convert at /home/nicolelislab/.julia/v0.4/PyCall/src/conversions.jl:222\n",
      " in convert at /home/nicolelislab/.julia/v0.4/PyCall/src/conversions.jl:846\n",
      " in pywrap at /home/nicolelislab/.julia/v0.4/PyCall/src/PyCall.jl:311\n",
      " in pywrap at /home/nicolelislab/.julia/v0.4/PyCall/src/PyCall.jl:304\n",
      " in include at ./boot.jl:254\n",
      " in include_from_node1 at ./loading.jl:133\n",
      " in reload_path at ./loading.jl:157\n",
      " in _require at ./loading.jl:69\n",
      " in require at ./loading.jl:52\n",
      " in include_string at loading.jl:99\n",
      " in execute_request_0x535c5df2 at /home/nicolelislab/.julia/v0.4/IJulia/src/execute_request.jl:157\n",
      " in eventloop at /home/nicolelislab/.julia/v0.4/IJulia/src/IJulia.jl:123\n",
      " in anonymous at task.jl:365\n",
      "while loading /home/nicolelislab/.julia/v0.4/PySide/src/PySide.jl, in expression starting on line 363\n",
      "\n",
      "WARNING: deprecated syntax \"{a=>b, ...}\" at /home/nicolelislab/.julia/v0.4/PySide/src/qtutils.jl:51.\n",
      "Use \"Dict{Any,Any}(a=>b, ...)\" instead.\n",
      "WARNING: ntuple(n::Integer,f::Function) is deprecated, use ntuple(f,n) instead.\n",
      " in depwarn at ./deprecated.jl:62\n",
      " in ntuple at deprecated.jl:49\n",
      " in convert at /home/nicolelislab/.julia/v0.4/PyCall/src/conversions.jl:222\n",
      " in call at /home/nicolelislab/.julia/v0.4/PyCall/src/numpy.jl:218\n",
      " in convert at /home/nicolelislab/.julia/v0.4/PyCall/src/numpy.jl:427\n",
      " in convert at /home/nicolelislab/.julia/v0.4/PyCall/src/conversions.jl:846\n",
      " in pywrap at /home/nicolelislab/.julia/v0.4/PyCall/src/PyCall.jl:311\n",
      " in pywrap at /home/nicolelislab/.julia/v0.4/PyCall/src/PyCall.jl:304\n",
      " in include at ./boot.jl:254\n",
      " in include_from_node1 at ./loading.jl:133\n",
      " in reload_path at ./loading.jl:157\n",
      " in reload at loading.jl:87\n",
      " in include_string at loading.jl:99\n",
      " in execute_request_0x535c5df2 at /home/nicolelislab/.julia/v0.4/IJulia/src/execute_request.jl:157\n",
      " in eventloop at /home/nicolelislab/.julia/v0.4/IJulia/src/IJulia.jl:123\n",
      " in anonymous at task.jl:365\n",
      "while loading /home/nicolelislab/.julia/v0.4/PySide/src/pyqtgraph.jl, in expression starting on line 363\n",
      "WARNING: ntuple(n::Integer,f::Function) is deprecated, use ntuple(f,n) instead.\n",
      " in depwarn at ./deprecated.jl:62\n",
      " in ntuple at deprecated.jl:49\n",
      " in convert at /home/nicolelislab/.julia/v0.4/PyCall/src/conversions.jl:222\n",
      " in convert at /home/nicolelislab/.julia/v0.4/PyCall/src/conversions.jl:846\n",
      " in pywrap at /home/nicolelislab/.julia/v0.4/PyCall/src/PyCall.jl:311\n",
      " in pywrap at /home/nicolelislab/.julia/v0.4/PyCall/src/PyCall.jl:304\n",
      " in include at ./boot.jl:254\n",
      " in include_from_node1 at ./loading.jl:133\n",
      " in reload_path at ./loading.jl:157\n",
      " in reload at loading.jl:87\n",
      " in include_string at loading.jl:99\n",
      " in execute_request_0x535c5df2 at /home/nicolelislab/.julia/v0.4/IJulia/src/execute_request.jl:157\n",
      " in eventloop at /home/nicolelislab/.julia/v0.4/IJulia/src/IJulia.jl:123\n",
      " in anonymous at task.jl:365\n",
      "while loading /home/nicolelislab/.julia/v0.4/PySide/src/pyqtgraph.jl, in expression starting on line 363\n"
     ]
    }
   ],
   "source": [
    "#pyqtgraph testing\n",
    "using PySide\n",
    "reload(Pkg.dir(\"PySide\", \"src\", \"pyqtgraph.jl\"))\n",
    "using PyQtGraph\n",
    "using PyCall"
   ]
  },
  {
   "cell_type": "code",
   "execution_count": 27,
   "metadata": {
    "collapsed": false,
    "scrolled": true
   },
   "outputs": [],
   "source": [
    "w = Widget()\n",
    "lyt = VBoxLayout(w)\n",
    "setLayout(w, lyt)\n",
    "\n",
    "# Graphics Layout Widget make grid of plot devices\n",
    "win = GraphicsLayoutWidget(w)\n",
    "addWidget(lyt, win)\n",
    "set_size(w, 800, 600)\n",
    "raise(w)\n",
    "\n",
    "# addPlot adds a plot device in next column over and returns a PyObject\n",
    "# PyQtGraph.GraphicsPlot object\n",
    "p = [addPlot(win) for i=1:3]\n",
    "\n",
    "# returns PyObject which is PlotDataItem type\n",
    "curve = [p[i].plot(pen=\"y\") for i=1:3]\n",
    "\n",
    "data = rand(100,10)\n",
    "ptr = 0\n",
    "\n",
    "function update()\n",
    "    global curve, data, ptr, p\n",
    "    for i=1:3\n",
    "        qinvoke(curve[i], :setData, data[:, 1 + ptr]) \n",
    "        if ptr == 0\n",
    "            p[i].enableAutoRange(\"xy\", false) ## stop auto-scaling after the first data set is plotted\n",
    "        end\n",
    "        ptr = (ptr + 1) % 10\n",
    "    end\n",
    "end\n",
    "\n",
    "#creates a timer\n",
    "timer = QtCore[:QTimer]()\n",
    "\n",
    "#connects the action that will occur when the timer triggers\n",
    "qconnect(timer, :timeout, update)\n",
    "\n",
    "#sets the interval between timer actions in ms; 0 for continuous \n",
    "#(as fast as can be processed)\n",
    "qinvoke(timer, :start, 1000)\n"
   ]
  },
  {
   "cell_type": "code",
   "execution_count": 22,
   "metadata": {
    "collapsed": false
   },
   "outputs": [
    {
     "data": {
      "text/plain": [
       "3-element Array{Any,1}:\n",
       " PyObject <pyqtgraph.graphicsItems.PlotDataItem.PlotDataItem(this = 0x797dc00 , parent = 0xa248b10 , pos = QPointF(0, 0) , z = 0 , flags =  ( ItemHasNoContents | ItemSendsGeometryChanges ) )  at 0x7f8a7b873cf8>\n",
       " PyObject <pyqtgraph.graphicsItems.PlotDataItem.PlotDataItem(this = 0xa59b270 , parent = 0xa5d19d0 , pos = QPointF(0, 0) , z = 0 , flags =  ( ItemHasNoContents | ItemSendsGeometryChanges ) )  at 0x7f8a7b879638>\n",
       " PyObject <pyqtgraph.graphicsItems.PlotDataItem.PlotDataItem(this = 0x798f9e0 , parent = 0x9e39e80 , pos = QPointF(0, 0) , z = 0 , flags =  ( ItemHasNoContents | ItemSendsGeometryChanges ) )  at 0x7f8a7b879ef0>"
      ]
     },
     "execution_count": 22,
     "metadata": {},
     "output_type": "execute_result"
    }
   ],
   "source": []
  },
  {
   "cell_type": "code",
   "execution_count": 47,
   "metadata": {
    "collapsed": false
   },
   "outputs": [
    {
     "name": "stdout",
     "output_type": "stream",
     "text": [
      "elapsed time: 1.072894188 seconds (471040 bytes allocated)\n"
     ]
    }
   ],
   "source": [
    "#GUI Experiments\n",
    "\n",
    "# plot in an external window since it doesn't work yet in IJulia\n",
    "pygui(true)\n",
    "# tell PyPlot that the plot is interactive\n",
    "PyPlot.ion()\n",
    "# . . . and that previous plots are overwritten\n",
    "#PyPlot.hold(false)\n",
    "\n",
    "(fig, ax) = plt.subplots(8,8)\n",
    "x=[1:1:100]\n",
    "y=[rand(100)]\n",
    "li=[hi[:plot](x, y)[1] for hi in ax]\n",
    "\n",
    "fig[:canvas][:draw]()\n",
    "plt.show()\n",
    "\n",
    "y2=[rand(500,100)]\n",
    "\n",
    "@time for i=1:10\n",
    "    \n",
    "    #[fig[:canvas][:restore_region](hi) for hi in backgrounds]\n",
    "    [hi[:set_ydata](y2[i,:]) for hi in li]\n",
    "    [fig[:canvas][:blit](hi[:bbox]) for hi in ax]\n",
    "    #fig[:canvas][:draw]()\n",
    "end"
   ]
  },
  {
   "cell_type": "code",
   "execution_count": 38,
   "metadata": {
    "collapsed": false
   },
   "outputs": [
    {
     "data": {
      "text/plain": [
       "main (generic function with 1 method)"
      ]
     },
     "execution_count": 38,
     "metadata": {},
     "output_type": "execute_result"
    }
   ],
   "source": [
    "#Wavelet Experiments\n",
    "\n",
    "function cwt(x::Array{Float64,1},t::Int,psi::Array{Float64,1},bs::Array{Float64,1})\n",
    "\n",
    "    bs[1]=bs[2]-x[t-20]*psi[1]+x[t]*psi[21]\n",
    "\n",
    "    for i=2:19\n",
    "        bs[i]=bs[i+1]-x[t-20]*psi[i]+x[t]*psi[22-i] \n",
    "    end\n",
    "\n",
    "    bs[20]=0.0\n",
    "    for i=1:20\n",
    "        bs[20]+=x[t-20+i]*psi[21-i]\n",
    "    end\n",
    "    \n",
    "    return bs\n",
    "end\n",
    "\n",
    "\n",
    "function mycwt(x::Array{Float64,1},t::Int, psi::Array{Float64,1})\n",
    "    \n",
    "    bs=0.0\n",
    "    \n",
    "    for i=1:20\n",
    "        bs+=x[t-20+i]*psi[21-i]\n",
    "    end\n",
    "    \n",
    "end\n",
    "\n",
    "function main()\n",
    "    for i=1:20000\n",
    "        mycwt(x,t,psi)\n",
    "    end\n",
    "end\n",
    "\n",
    "psi=[0.00021208083980379827\n",
    "0.00035858968789573785\n",
    "-0.0021782363581090178\n",
    "-0.004159358781386048\n",
    "0.010131117519849788\n",
    "0.023408156785839195\n",
    "-0.02816802897093635\n",
    "-0.09192001055969624\n",
    "0.05204316317624377\n",
    "0.4215662066908515\n",
    "-0.7742896036529562\n",
    "0.4379916261718371\n",
    "0.06203596396290357\n",
    "-0.10557420870333893\n",
    "-0.0412892087501817\n",
    "0.03268357426711183\n",
    "0.01976177894257264\n",
    "-0.009164231162481846\n",
    "-0.006764185448053083\n",
    "0.0024333732126576722\n",
    "0.0016628637020130838\n",
    "-0.0006381313430451114\n",
    "-0.00030225958181306315\n",
    "0.00014054114970203437\n",
    "4.134043227251251e-05\n",
    "-2.1315026809955787e-05\n",
    "-3.7346551751414047e-06\n",
    "2.0637618513646814e-06\n",
    "1.6744288576823017e-07\n",
    "-9.517657273819165e-08\n",
    "];\n",
    "\n",
    "bs=zeros(Float64,20)\n",
    "    \n",
    "x=rand(100)\n",
    "t=50\n",
    "\n",
    "for j=1:20\n",
    "    for i=1:20\n",
    "        bs[j]+=x[t-20+i]*psi[21-i]\n",
    "    end\n",
    "end"
   ]
  },
  {
   "cell_type": "code",
   "execution_count": null,
   "metadata": {
    "collapsed": true
   },
   "outputs": [],
   "source": []
  }
 ],
 "metadata": {
  "kernelspec": {
   "display_name": "Julia 0.4.0-dev",
   "language": "julia",
   "name": "julia-0.4"
  },
  "language_info": {
   "name": "julia",
   "version": "0.4.0"
  }
 },
 "nbformat": 4,
 "nbformat_minor": 0
}

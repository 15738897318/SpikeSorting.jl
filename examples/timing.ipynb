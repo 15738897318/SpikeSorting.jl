{
 "cells": [
  {
   "cell_type": "markdown",
   "metadata": {},
   "source": [
    "# Timing\n",
    "\n",
    "SpikeSorting.jl was built with online processing in mind, and is cable of sorting multiple channels simultaneously and taking advantage of multiple cores. How an algorithm scales across channels and cores can depend on the algorithm itself, your sampling rate and the machine it is running on. The simulations below demonstrate performance for various algorithms under some of these circumstances."
   ]
  },
  {
   "cell_type": "markdown",
   "metadata": {},
   "source": [
    "## Simulation 1: Increasing channels and parallel processing"
   ]
  },
  {
   "cell_type": "code",
   "execution_count": null,
   "metadata": {
    "collapsed": false
   },
   "outputs": [],
   "source": [
    "addprocs()\n",
    "\n",
    "using SpikeSorting, DistributedArrays, PyPlot\n",
    "\n",
    "#Spike Sorting\n",
    "s_s1=Array(Array{Sorting,1},64);\n",
    "s_p1=Array(Any,64);\n",
    "\n",
    "count1=1\n",
    "for i=4:4:256\n",
    "    #1 core\n",
    "    s_s1[count1]=create_multi(DetectPower(),ClusterOSort(),AlignMax(),FeatureTime(),ReductionNone(),ThresholdMean(),i);\n",
    "\n",
    "    #4 core\n",
    "    s_p1[count1]=create_multi(DetectPower(),ClusterOSort(),AlignMax(),FeatureTime(),ReductionNone(),ThresholdMean(),i,2:5);\n",
    " \n",
    "    count1+=1\n",
    "end"
   ]
  },
  {
   "cell_type": "code",
   "execution_count": null,
   "metadata": {
    "collapsed": false
   },
   "outputs": [],
   "source": [
    "function timing1(mytimes::Array{Float64,2},s_s::Array{Array{Sorting,1},1},s_p)\n",
    "\n",
    "    count=1\n",
    "    for i=4:4:256\n",
    "    \n",
    "        #single core\n",
    "        v=rand(1:1000,20000,i);\n",
    "        (buf1,nums1)=output_buffer(i);\n",
    "        cal!(s_s[count],v,buf1,nums1,true)\n",
    "        cal!(s_s[count],v,buf1,nums1);\n",
    "    \n",
    "        t1 = @elapsed onlinesort!(s_s[count],v,buf1,nums1);\n",
    "    \n",
    "        for j=1:20\n",
    "            t1 = @elapsed onlinesort!(s_s[count],v,buf1,nums1);\n",
    "            if t1<mytimes[count,1]\n",
    "                mytimes[count,1]=t1\n",
    "            end\n",
    "        end\n",
    "    \n",
    "        v2=convert(SharedArray{Int64,2},v);\n",
    "        (buf2,nums2)=output_buffer(i,true);\n",
    "        cal!(s_p[count],v2,buf2,nums2,true);\n",
    "        cal!(s_p[count],v2,buf2,nums2);\n",
    "    \n",
    "        t2 = @elapsed onlinesort!(s_p[count],v2,buf2,nums2);\n",
    "    \n",
    "        for j=1:20\n",
    "            t2 = @elapsed onlinesort!(s_p[count],v2,buf2,nums2);\n",
    "            if t2<mytimes[count,2]\n",
    "                mytimes[count,2]=t2\n",
    "            end\n",
    "        end\n",
    "    \n",
    "        count+=1\n",
    "\n",
    "    end\n",
    "\n",
    "    nothing\n",
    "    \n",
    "end"
   ]
  },
  {
   "cell_type": "code",
   "execution_count": null,
   "metadata": {
    "collapsed": false
   },
   "outputs": [],
   "source": [
    "times=ones(Float64,64,2)\n",
    "\n",
    "timing1(times,s_s1,s_p1);"
   ]
  },
  {
   "cell_type": "code",
   "execution_count": null,
   "metadata": {
    "collapsed": false
   },
   "outputs": [],
   "source": [
    "(fig,myax)=subplots(1,1)\n",
    "plot(4:4:256,times[:,1].*1000,4:4:256,times[:,2].*1000)\n",
    "myax[:set_xlabel](\"Number of Channels\")\n",
    "myax[:set_ylabel](\"Time (ms)\")\n",
    "myax[:legend]([\"1 Core\", \"4 Core\"], loc=2)"
   ]
  },
  {
   "cell_type": "code",
   "execution_count": null,
   "metadata": {
    "collapsed": true
   },
   "outputs": [],
   "source": []
  }
 ],
 "metadata": {
  "kernelspec": {
   "display_name": "Julia 0.4.2-pre",
   "language": "julia",
   "name": "julia-0.4"
  },
  "language_info": {
   "file_extension": ".jl",
   "mimetype": "application/julia",
   "name": "julia",
   "version": "0.4.3"
  }
 },
 "nbformat": 4,
 "nbformat_minor": 0
}

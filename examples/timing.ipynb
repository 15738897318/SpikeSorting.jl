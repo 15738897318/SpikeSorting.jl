{
 "cells": [
  {
   "cell_type": "code",
   "execution_count": null,
   "metadata": {
    "collapsed": false
   },
   "outputs": [],
   "source": [
    "addprocs()\n",
    "\n",
    "using SpikeSorting\n",
    "\n",
    "#single channel\n",
    "s=Sorting(DetectPower(),ClusterOSort(),AlignMax(),FeatureDD(),ReductionNone());\n",
    "\n",
    "#64 channel for single core analysis\n",
    "s2=create_multi(DetectPower(),ClusterOSort(),AlignMax(),FeatureDD(),ReductionNone(),64);\n",
    "\n",
    "#64 channel for multi-core analysis\n",
    "s3=create_multi(DetectPower(),ClusterOSort(),AlignMax(),FeatureDD(),ReductionNone(),64,true);\n",
    "\n",
    "#64 channel, 20000 sample voltage vectors\n",
    "v=convert(Array{Int64,2},rand(UInt8,20000,64));\n",
    "v2=convert(SharedArray{Int64,2},v);"
   ]
  },
  {
   "cell_type": "code",
   "execution_count": null,
   "metadata": {
    "collapsed": false
   },
   "outputs": [],
   "source": [
    "#single channel\n",
    "@time cal!(s,v,true)\n",
    "@time cal!(s,v);\n",
    "@time onlinesort!(s,v);\n",
    "\n",
    "#multi-channel single core\n",
    "@time cal!(s2,v,true);\n",
    "@time cal!(s2,v);\n",
    "@time onlinesort!(s2,v);\n",
    "\n",
    "#multi-channel multi core\n",
    "@time cal!(s3,v2,true);\n",
    "@time cal!(s3,v2);\n",
    "@time onlinesort!(s3,v2);"
   ]
  },
  {
   "cell_type": "code",
   "execution_count": null,
   "metadata": {
    "collapsed": false
   },
   "outputs": [],
   "source": [
    "#Compare speed of single core and multi core for 64 channels\n",
    "@time onlinesort!(s2,v);\n",
    "@time onlinesort!(s3,v2);"
   ]
  },
  {
   "cell_type": "code",
   "execution_count": null,
   "metadata": {
    "collapsed": true
   },
   "outputs": [],
   "source": []
  }
 ],
 "metadata": {
  "kernelspec": {
   "display_name": "Julia 0.4.2-pre",
   "language": "julia",
   "name": "julia-0.4"
  },
  "language_info": {
   "file_extension": ".jl",
   "mimetype": "application/julia",
   "name": "julia",
   "version": "0.4.2"
  }
 },
 "nbformat": 4,
 "nbformat_minor": 0
}

{
 "cells": [
  {
   "cell_type": "markdown",
   "metadata": {},
   "source": [
    "## Sample Syntax\n",
    "\n"
   ]
  },
  {
   "cell_type": "code",
   "execution_count": null,
   "metadata": {
    "collapsed": false
   },
   "outputs": [],
   "source": [
    "using SpikeSorting"
   ]
  },
  {
   "cell_type": "markdown",
   "metadata": {},
   "source": [
    "### Creating Sorting Structure\n",
    "\n",
    "The core of SpikeSorting.jl is the Sorting data structure. It is defined by how the algorithm will perform\n",
    "* Detection\n",
    "* Clustering\n",
    "* Alignment\n",
    "* Feature extraction\n",
    "* Dimensionality Reduction\n",
    "* Thresholding\n",
    "\n",
    "As well as the number of channels"
   ]
  },
  {
   "cell_type": "code",
   "execution_count": null,
   "metadata": {
    "collapsed": false
   },
   "outputs": [],
   "source": [
    "detect=DetectPower();\n",
    "cluster=ClusterOSort();\n",
    "align=AlignMax();\n",
    "feature=FeatureTime();\n",
    "reduce=ReductionNone();\n",
    "thres=ThresholdMean();\n",
    "num_channels=20;\n",
    "\n",
    "s1=create_multi(detect,cluster,align,feature,reduce,thres,num_channels);"
   ]
  },
  {
   "cell_type": "markdown",
   "metadata": {},
   "source": [
    "### Creating Output Buffers\n",
    "\n",
    "The data structures that contain the detected spikes and input voltages are separate from the sorting structure to facilitate integration with other software. The output_buffer method will create the data structure that hold:\n",
    "\n",
    "* Detected Spikes\n",
    "* Number of detected spikes on each channel\n",
    "\n",
    "The idea is that these buffers will be wiped after each iteration of online sorting."
   ]
  },
  {
   "cell_type": "code",
   "execution_count": null,
   "metadata": {
    "collapsed": false
   },
   "outputs": [],
   "source": [
    "(buf,nums)=output_buffer(num_channels);"
   ]
  },
  {
   "cell_type": "markdown",
   "metadata": {},
   "source": [
    "### Calibration\n",
    "\n",
    "Before sorting, there are several types of calibration that need to occur. First, the very first iteration will initialize all methods that need some kind of starting values. Then, the thresholds for detection need to be calculated. Then any candidate spikes that are detected may need to be used to calibrate dimensionality reduction or clustering steps. \n",
    "\n",
    "The cal! method will perform the appropriate stage of calibration based on the value of its last input as follows:\n",
    "\n",
    "* 0 = first run\n",
    "* 1 = threshold calibration\n",
    "* 2 = dimensionality reduction / clustering calibration\n",
    "\n",
    "So for online use, a timer or iteration counter could be used so that time is spent in each of the appropriate calibration phases."
   ]
  },
  {
   "cell_type": "code",
   "execution_count": null,
   "metadata": {
    "collapsed": false
   },
   "outputs": [],
   "source": [
    "v=rand(1:1000, 1000, num_channels); #Dummy voltage matrix\n",
    "\n",
    "#First run\n",
    "cal!(s1,v,buf,nums,0)\n",
    "\n",
    "#Threshold calibration\n",
    "cal!(s1,v,buf,nums,1)\n",
    "\n",
    "#Clustering / DM calibration\n",
    "cal!(s1,v,buf,nums,2)"
   ]
  },
  {
   "cell_type": "markdown",
   "metadata": {},
   "source": [
    "### Online Sorting\n",
    "\n",
    "Online Sorting is performed in a similar fashion, with the onlinesort! method:"
   ]
  },
  {
   "cell_type": "code",
   "execution_count": null,
   "metadata": {
    "collapsed": false
   },
   "outputs": [],
   "source": [
    "onlinesort!(s1,v,buf,nums);"
   ]
  },
  {
   "cell_type": "code",
   "execution_count": null,
   "metadata": {
    "collapsed": true
   },
   "outputs": [],
   "source": []
  }
 ],
 "metadata": {
  "kernelspec": {
   "display_name": "Julia 0.4.1-pre",
   "language": "julia",
   "name": "julia-0.4"
  },
  "language_info": {
   "file_extension": ".jl",
   "mimetype": "application/julia",
   "name": "julia",
   "version": "0.4.3"
  }
 },
 "nbformat": 4,
 "nbformat_minor": 0
}

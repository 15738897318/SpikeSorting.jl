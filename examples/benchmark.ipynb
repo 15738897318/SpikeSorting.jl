{
 "cells": [
  {
   "cell_type": "markdown",
   "metadata": {},
   "source": [
    "### Benchmarking a Method with SpikeSorting.jl\n",
    "\n",
    "You can use SpikeSorting.jl to calculate quantitive metrics of the accuracy of the method. To do this, we need 1) ground truth data sets and 2) measures of \"accuracy.\" To find the ground truth datasets, we will simulate extracellular potentials created by tens of thousands of pyramidal neurons. To measure performance, we will calculate the false positives attributable to detection and clustering steps, false negatives attributable to the detection threshold and overlap of multiple potentials, and the true positive percentage. These metrics as described in detail here:\n",
    "\n",
    "http://www.ncbi.nlm.nih.gov/pmc/articles/PMC3123734/pdf/nihms303529.pdf"
   ]
  },
  {
   "cell_type": "code",
   "execution_count": null,
   "metadata": {
    "collapsed": false
   },
   "outputs": [],
   "source": [
    "using SpikeSorting, JNeuron, DSP"
   ]
  },
  {
   "cell_type": "code",
   "execution_count": null,
   "metadata": {
    "collapsed": false
   },
   "outputs": [],
   "source": [
    "# We will generate our ground truth dataset with JNeuron\n",
    "\n",
    "#Import Neuron and assign HH and Passive channels everywhere\n",
    "myimport=input(\"/home/nicolelislab/JNeuron/examples/data/cell2.asc\");\n",
    "blank_neuron=instantiate(myimport);\n",
    "set_nsegs!(blank_neuron);\n",
    "template_neuron=add(blank_neuron,(HH(),Passive()));\n",
    "\n",
    "#Find current at each node when this neuron fires an action potential\n",
    "mynetwork=Network(template_neuron,15.0)\n",
    "i_nodes=JNeuron.runc(mynetwork,true);\n",
    "i_nodes=JNeuron.runc(mynetwork,false);\n",
    "\n",
    "#Create extracellular electrode\n",
    "mye=Extracellular([500.0,125.0,0.0])\n",
    "\n",
    "#Find the voltage waveforms of every neuron in a 30000 neuron population\n",
    "neuron_num=30000\n",
    "voltage_waveforms=JNeuron.nete(template_neuron,i_nodes,mye,neuron_num);\n",
    "\n",
    "#Find potential at extracellular electrode, and time stamps of nearby neurons\n",
    "sim_time=30000.0 #30 seconds\n",
    "(voltage_extracellular, time_stamps)=JNeuron.extrap(voltage_waveforms,sim_time);\n",
    "\n",
    "#Remove LFP with high pass filter\n",
    "r=Highpass(300, fs=40000)\n",
    "dm = Butterworth(4)\n",
    "fv1=filt(digitalfilter(r,dm),voltage_extracellular);"
   ]
  },
  {
   "cell_type": "code",
   "execution_count": null,
   "metadata": {
    "collapsed": false
   },
   "outputs": [],
   "source": [
    "#Benchmark with SpikeSort.jl\n",
    "detect=DetectPower();\n",
    "cluster=ClusterOSort();\n",
    "align=AlignMin();\n",
    "feature=FeatureTime();\n",
    "reduce=ReductionNone();\n",
    "thres=ThresholdMean();\n",
    "s1=create_multi(detect,cluster,align,feature,reduce,thres,1);\n",
    "\n",
    "fv=fv1[1000:2:end]\n",
    "ss=SpikeSorting.benchmark(fv,time_stamps,s1[1],15.0,20000)"
   ]
  }
 ],
 "metadata": {
  "kernelspec": {
   "display_name": "Julia 0.4.4-pre",
   "language": "julia",
   "name": "julia-0.4"
  },
  "language_info": {
   "file_extension": ".jl",
   "mimetype": "application/julia",
   "name": "julia",
   "version": "0.4.4"
  }
 },
 "nbformat": 4,
 "nbformat_minor": 0
}

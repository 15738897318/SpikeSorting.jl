{
 "cells": [
  {
   "cell_type": "markdown",
   "metadata": {},
   "source": [
    "### Benchmarking a Method with SpikeSorting.jl\n",
    "\n",
    "You can use SpikeSorting.jl to calculate quantitive metrics of the accuracy of the method. To do this, we need 1) ground truth data sets and 2) measures of \"accuracy.\" To find the ground truth datasets, we will simulate extracellular potentials created by tens of thousands of pyramidal neurons. To measure performance, we will calculate the false positives attributable to detection and clustering steps, false negatives attributable to the detection threshold and overlap of multiple potentials, and the true positive percentage. These metrics as described in detail here:\n",
    "\n",
    "http://www.ncbi.nlm.nih.gov/pmc/articles/PMC3123734/pdf/nihms303529.pdf"
   ]
  },
  {
   "cell_type": "code",
   "execution_count": null,
   "metadata": {
    "collapsed": false
   },
   "outputs": [],
   "source": [
    "using SpikeSorting, JLD"
   ]
  },
  {
   "cell_type": "code",
   "execution_count": null,
   "metadata": {
    "collapsed": false
   },
   "outputs": [],
   "source": [
    "a=load(\"../test/data/spikes2.jld\")\n",
    "time_stamps=a[\"time_stamps\"] #3x1 array of arrays of spike times for each ground truth neuron\n",
    "fv=a[\"fv\"] #voltage vs time. ~5 minutes sampled at 20 khz with 3 neurons\n",
    "\n",
    "cal_time=180.0; #calibration time in seconds\n",
    "sr = 20000; #sample rate in hertz"
   ]
  },
  {
   "cell_type": "code",
   "execution_count": 5,
   "metadata": {
    "collapsed": false
   },
   "outputs": [
    {
     "name": "stdout",
     "output_type": "stream",
     "text": [
      "Spike totals: [7430,8630,6899]\n",
      "False Positive Total: 2796\n",
      "False Positive Clustering: 0\n",
      "False Positive Overlap: 1156\n",
      "False Positive Noise: 1640\n",
      "True Positive: 4577\n",
      "Total False Negative: 18382\n",
      "False Negative Overlap: 7294\n",
      "False Negative Threshold: 11088\n"
     ]
    }
   ],
   "source": [
    "detect=DetectPower()\n",
    "cluster=ClusterOSort()\n",
    "align=AlignMin()\n",
    "feature=FeatureTime()\n",
    "reduce=ReductionNone()\n",
    "thres=ThresholdMean(2.0)\n",
    "s1=create_multi(detect,cluster,align,feature,reduce,thres,1)\n",
    "\n",
    "ss=SpikeSorting.benchmark(fv,time_stamps,s1[1],cal_time,sr);"
   ]
  },
  {
   "cell_type": "code",
   "execution_count": null,
   "metadata": {
    "collapsed": true
   },
   "outputs": [],
   "source": []
  }
 ],
 "metadata": {
  "kernelspec": {
   "display_name": "Julia 0.4.4-pre",
   "language": "julia",
   "name": "julia-0.4"
  },
  "language_info": {
   "file_extension": ".jl",
   "mimetype": "application/julia",
   "name": "julia",
   "version": "0.4.4"
  }
 },
 "nbformat": 4,
 "nbformat_minor": 0
}
